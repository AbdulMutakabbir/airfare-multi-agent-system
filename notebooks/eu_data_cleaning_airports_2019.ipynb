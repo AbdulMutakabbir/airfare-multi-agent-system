{
 "cells": [
  {
   "cell_type": "code",
   "execution_count": 1,
   "id": "c8bd5142",
   "metadata": {},
   "outputs": [],
   "source": [
    "import pandas as pd\n",
    "import matplotlib.pyplot as plt\n",
    "import json"
   ]
  },
  {
   "cell_type": "code",
   "execution_count": 2,
   "id": "8a941e94",
   "metadata": {},
   "outputs": [],
   "source": [
    "EU_AIRPORT_2019_COMPLETE_CLEANED_PASSANGER_STAT_FILE_LOC = \"../data/cleaned/eu_cleaned_airports_2019_passenger_data_complete.csv\"\n",
    "\n",
    "AIRPORTS_FILE_CLEANED_JSON = \"../data/cleaned/cleaned_earth_airports.json\"\n",
    "\n",
    "EU_AIRPORTS_FILE_CLEANED_CSV = \"../data/cleaned/eu_cleaned_airports.csv\"\n",
    "\n",
    "EU_AIRPORTS_2019_FILE_CLEANED_CSV = \"../data/cleaned/eu_cleaned_airports_2019.csv\"\n",
    "EU_AIRPORTS_2019_FILE_CLEANED_JSON = \"../data/cleaned/eu_cleaned_airports_2019.json\""
   ]
  },
  {
   "cell_type": "markdown",
   "id": "7500f97b",
   "metadata": {},
   "source": [
    "# Read Data"
   ]
  },
  {
   "cell_type": "code",
   "execution_count": 3,
   "id": "00e12a42",
   "metadata": {
    "scrolled": true
   },
   "outputs": [],
   "source": [
    "eu_airports_df = pd.read_csv(EU_AIRPORTS_FILE_CLEANED_CSV, \n",
    "                              index_col = 0, \n",
    "                              header=0)\n",
    "# eu_airports_df"
   ]
  },
  {
   "cell_type": "code",
   "execution_count": 4,
   "id": "7d68080c",
   "metadata": {},
   "outputs": [],
   "source": [
    "eu_passenger_stat_2019_df = pd.read_csv(EU_AIRPORT_2019_COMPLETE_CLEANED_PASSANGER_STAT_FILE_LOC, \n",
    "                              index_col = 0, \n",
    "                              header=0)\n",
    "# eu_passenger_stat_2019_df"
   ]
  },
  {
   "cell_type": "code",
   "execution_count": 5,
   "id": "40d724ae",
   "metadata": {},
   "outputs": [],
   "source": [
    "with open(AIRPORTS_FILE_CLEANED_JSON) as f:\n",
    "    all_airports = json.load(f)"
   ]
  },
  {
   "cell_type": "markdown",
   "id": "636a212d",
   "metadata": {},
   "source": [
    "# Airport Data Cleaning"
   ]
  },
  {
   "cell_type": "code",
   "execution_count": 6,
   "id": "b8c7db63",
   "metadata": {
    "scrolled": true
   },
   "outputs": [],
   "source": [
    "eu_airports_2019_df = eu_airports_df.join(eu_passenger_stat_2019_df, on=\"IATA\", how=\"inner\")"
   ]
  },
  {
   "cell_type": "code",
   "execution_count": 7,
   "id": "a2244f9d",
   "metadata": {},
   "outputs": [],
   "source": [
    "eu_airports_2019_df.drop(['1','2','3','4','5','6','7','8','9','10','11','12'], inplace=True, axis=1)"
   ]
  },
  {
   "cell_type": "code",
   "execution_count": 8,
   "id": "3aac2f5d",
   "metadata": {},
   "outputs": [
    {
     "data": {
      "text/html": [
       "<div>\n",
       "<style scoped>\n",
       "    .dataframe tbody tr th:only-of-type {\n",
       "        vertical-align: middle;\n",
       "    }\n",
       "\n",
       "    .dataframe tbody tr th {\n",
       "        vertical-align: top;\n",
       "    }\n",
       "\n",
       "    .dataframe thead th {\n",
       "        text-align: right;\n",
       "    }\n",
       "</style>\n",
       "<table border=\"1\" class=\"dataframe\">\n",
       "  <thead>\n",
       "    <tr style=\"text-align: right;\">\n",
       "      <th></th>\n",
       "      <th>Name</th>\n",
       "      <th>City</th>\n",
       "      <th>Country</th>\n",
       "      <th>IATA</th>\n",
       "      <th>Latitude</th>\n",
       "      <th>Longitude</th>\n",
       "      <th>Altitude</th>\n",
       "    </tr>\n",
       "  </thead>\n",
       "  <tbody>\n",
       "    <tr>\n",
       "      <th>0</th>\n",
       "      <td>Brussels Airport</td>\n",
       "      <td>Brussels</td>\n",
       "      <td>Belgium</td>\n",
       "      <td>BRU</td>\n",
       "      <td>50.901402</td>\n",
       "      <td>4.484440</td>\n",
       "      <td>184</td>\n",
       "    </tr>\n",
       "    <tr>\n",
       "      <th>1</th>\n",
       "      <td>Brussels South Charleroi Airport</td>\n",
       "      <td>Charleroi</td>\n",
       "      <td>Belgium</td>\n",
       "      <td>CRL</td>\n",
       "      <td>50.459202</td>\n",
       "      <td>4.453820</td>\n",
       "      <td>614</td>\n",
       "    </tr>\n",
       "    <tr>\n",
       "      <th>2</th>\n",
       "      <td>Liège Airport</td>\n",
       "      <td>Liege</td>\n",
       "      <td>Belgium</td>\n",
       "      <td>LGG</td>\n",
       "      <td>50.637402</td>\n",
       "      <td>5.443220</td>\n",
       "      <td>659</td>\n",
       "    </tr>\n",
       "    <tr>\n",
       "      <th>3</th>\n",
       "      <td>Ostend-Bruges International Airport</td>\n",
       "      <td>Ostend</td>\n",
       "      <td>Belgium</td>\n",
       "      <td>OST</td>\n",
       "      <td>51.198898</td>\n",
       "      <td>2.862220</td>\n",
       "      <td>13</td>\n",
       "    </tr>\n",
       "    <tr>\n",
       "      <th>4</th>\n",
       "      <td>Dresden Airport</td>\n",
       "      <td>Dresden</td>\n",
       "      <td>Germany</td>\n",
       "      <td>DRS</td>\n",
       "      <td>51.132801</td>\n",
       "      <td>13.767200</td>\n",
       "      <td>755</td>\n",
       "    </tr>\n",
       "    <tr>\n",
       "      <th>...</th>\n",
       "      <td>...</td>\n",
       "      <td>...</td>\n",
       "      <td>...</td>\n",
       "      <td>...</td>\n",
       "      <td>...</td>\n",
       "      <td>...</td>\n",
       "      <td>...</td>\n",
       "    </tr>\n",
       "    <tr>\n",
       "      <th>182</th>\n",
       "      <td>Ängelholm-Helsingborg Airport</td>\n",
       "      <td>Ängelholm</td>\n",
       "      <td>Sweden</td>\n",
       "      <td>AGH</td>\n",
       "      <td>56.296101</td>\n",
       "      <td>12.847100</td>\n",
       "      <td>68</td>\n",
       "    </tr>\n",
       "    <tr>\n",
       "      <th>183</th>\n",
       "      <td>Corvo Airport</td>\n",
       "      <td>Corvo</td>\n",
       "      <td>Portugal</td>\n",
       "      <td>CVU</td>\n",
       "      <td>39.671501</td>\n",
       "      <td>-31.113600</td>\n",
       "      <td>0</td>\n",
       "    </tr>\n",
       "    <tr>\n",
       "      <th>184</th>\n",
       "      <td>La Rochelle-Île de Ré Airport</td>\n",
       "      <td>La Rochelle</td>\n",
       "      <td>France</td>\n",
       "      <td>LRH</td>\n",
       "      <td>46.179199</td>\n",
       "      <td>-1.195280</td>\n",
       "      <td>74</td>\n",
       "    </tr>\n",
       "    <tr>\n",
       "      <th>185</th>\n",
       "      <td>Lublin Airport</td>\n",
       "      <td>Lublin</td>\n",
       "      <td>Poland</td>\n",
       "      <td>LUZ</td>\n",
       "      <td>51.240278</td>\n",
       "      <td>22.713611</td>\n",
       "      <td>633</td>\n",
       "    </tr>\n",
       "    <tr>\n",
       "      <th>186</th>\n",
       "      <td>Comiso Airport</td>\n",
       "      <td>Comiso</td>\n",
       "      <td>Italy</td>\n",
       "      <td>CIY</td>\n",
       "      <td>36.994601</td>\n",
       "      <td>14.607182</td>\n",
       "      <td>623</td>\n",
       "    </tr>\n",
       "  </tbody>\n",
       "</table>\n",
       "<p>187 rows × 7 columns</p>\n",
       "</div>"
      ],
      "text/plain": [
       "                                    Name         City   Country IATA  \\\n",
       "0                       Brussels Airport     Brussels   Belgium  BRU   \n",
       "1       Brussels South Charleroi Airport    Charleroi   Belgium  CRL   \n",
       "2                          Liège Airport        Liege   Belgium  LGG   \n",
       "3    Ostend-Bruges International Airport       Ostend   Belgium  OST   \n",
       "4                        Dresden Airport      Dresden   Germany  DRS   \n",
       "..                                   ...          ...       ...  ...   \n",
       "182        Ängelholm-Helsingborg Airport    Ängelholm    Sweden  AGH   \n",
       "183                        Corvo Airport        Corvo  Portugal  CVU   \n",
       "184        La Rochelle-Île de Ré Airport  La Rochelle    France  LRH   \n",
       "185                       Lublin Airport       Lublin    Poland  LUZ   \n",
       "186                       Comiso Airport       Comiso     Italy  CIY   \n",
       "\n",
       "      Latitude  Longitude  Altitude  \n",
       "0    50.901402   4.484440       184  \n",
       "1    50.459202   4.453820       614  \n",
       "2    50.637402   5.443220       659  \n",
       "3    51.198898   2.862220        13  \n",
       "4    51.132801  13.767200       755  \n",
       "..         ...        ...       ...  \n",
       "182  56.296101  12.847100        68  \n",
       "183  39.671501 -31.113600         0  \n",
       "184  46.179199  -1.195280        74  \n",
       "185  51.240278  22.713611       633  \n",
       "186  36.994601  14.607182       623  \n",
       "\n",
       "[187 rows x 7 columns]"
      ]
     },
     "execution_count": 8,
     "metadata": {},
     "output_type": "execute_result"
    }
   ],
   "source": [
    "eu_airports_2019_df.reset_index(drop=True, inplace=True)\n",
    "eu_airports_2019_df"
   ]
  },
  {
   "cell_type": "markdown",
   "id": "5c92c07c",
   "metadata": {},
   "source": [
    "# Create JSON Data"
   ]
  },
  {
   "cell_type": "code",
   "execution_count": 16,
   "id": "7e23835a",
   "metadata": {},
   "outputs": [],
   "source": [
    "eu_airports_2019_json = {}\n",
    "\n",
    "eu_airports_2019_count = len(eu_airports_2019_df)\n",
    "\n",
    "for eu_airport_index in range(eu_airports_2019_count):\n",
    "    eu_airport_data = eu_airports_2019_df.iloc[eu_airport_index]\n",
    "    eu_airport_code = eu_airport_data[\"IATA\"]\n",
    "    eu_airports_2019_json[eu_airport_code] = all_airports[eu_airport_code]\n",
    "    \n",
    "# eu_airports_2019_json"
   ]
  },
  {
   "cell_type": "markdown",
   "id": "9d8da300",
   "metadata": {},
   "source": [
    "# Ariport Visulization"
   ]
  },
  {
   "cell_type": "code",
   "execution_count": 10,
   "id": "70aa523d",
   "metadata": {},
   "outputs": [
    {
     "name": "stdout",
     "output_type": "stream",
     "text": [
      "number of countries: 25\n"
     ]
    }
   ],
   "source": [
    "no_of_countries = len(eu_airports_2019_df[\"Country\"].value_counts())\n",
    "print(\"number of countries:\", no_of_countries)"
   ]
  },
  {
   "cell_type": "code",
   "execution_count": 11,
   "id": "8805a736",
   "metadata": {},
   "outputs": [
    {
     "data": {
      "image/png": "[encoded data removed]",
      "text/plain": [
       "<Figure size 504x144 with 1 Axes>"
      ]
     },
     "metadata": {
      "needs_background": "light"
     },
     "output_type": "display_data"
    }
   ],
   "source": [
    "plt.close(\"all\")\n",
    "plt.figure()\n",
    "name_plt = eu_airports_2019_df[\"Country\"].value_counts().plot(kind='bar',figsize=(7,2))\n",
    "name_plt.set_xlabel(\"Country\")\n",
    "name_plt.set_ylabel(\"No. of Airports\")\n",
    "plt.show()"
   ]
  },
  {
   "cell_type": "markdown",
   "id": "9be8f1d8",
   "metadata": {},
   "source": [
    "# Save Airport Data"
   ]
  },
  {
   "cell_type": "code",
   "execution_count": 12,
   "id": "2b5f9779",
   "metadata": {},
   "outputs": [],
   "source": [
    "eu_airports_2019_df.to_csv(EU_AIRPORTS_2019_FILE_CLEANED_CSV)"
   ]
  },
  {
   "cell_type": "code",
   "execution_count": 13,
   "id": "121739d9",
   "metadata": {},
   "outputs": [],
   "source": [
    "with open(EU_AIRPORTS_2019_FILE_CLEANED_JSON, 'w') as fp:\n",
    "    json.dump(eu_airports_2019_json, fp)"
   ]
  },
  {
   "cell_type": "code",
   "execution_count": null,
   "id": "5f82ad06",
   "metadata": {},
   "outputs": [],
   "source": []
  }
 ],
 "metadata": {
  "kernelspec": {
   "display_name": "Python 3",
   "language": "python",
   "name": "python3"
  },
  "language_info": {
   "codemirror_mode": {
    "name": "ipython",
    "version": 3
   },
   "file_extension": ".py",
   "mimetype": "text/x-python",
   "name": "python",
   "nbconvert_exporter": "python",
   "pygments_lexer": "ipython3",
   "version": "3.8.8"
  }
 },
 "nbformat": 4,
 "nbformat_minor": 5
}
