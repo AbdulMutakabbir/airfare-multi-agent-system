{
 "cells": [
  {
   "cell_type": "code",
   "execution_count": 1,
   "id": "ada0fccb",
   "metadata": {},
   "outputs": [],
   "source": [
    "import pandas as pd\n",
    "import json"
   ]
  },
  {
   "cell_type": "code",
   "execution_count": 2,
   "id": "9b88d221",
   "metadata": {},
   "outputs": [],
   "source": [
    "COUNTRIES_FILE = \"../data/countries.csv\"\n",
    "COUNTRIES_FILE_CLEANED_CSV = \"../data/cleaned/cleaned_earth_countries.csv\"\n",
    "COUNTRIES_FILE_CLEANED_JSON = \"../data/cleaned/cleaned_earth_countries.json\""
   ]
  },
  {
   "cell_type": "markdown",
   "id": "3b16c5fa",
   "metadata": {},
   "source": [
    "# Read Countries Data"
   ]
  },
  {
   "cell_type": "code",
   "execution_count": 3,
   "id": "2e236ac4",
   "metadata": {},
   "outputs": [],
   "source": [
    "countries_df = pd.read_csv(COUNTRIES_FILE, \n",
    "#                        index_col = 1, \n",
    "                       header=0)"
   ]
  },
  {
   "cell_type": "markdown",
   "id": "4871cf14",
   "metadata": {},
   "source": [
    "# Country Data Cleaning"
   ]
  },
  {
   "cell_type": "code",
   "execution_count": 4,
   "id": "ae55ec26",
   "metadata": {},
   "outputs": [],
   "source": [
    "countries_df.drop(['iso_code','dafif_code'], inplace = True, axis =1)"
   ]
  },
  {
   "cell_type": "code",
   "execution_count": 5,
   "id": "bb4d7e40",
   "metadata": {},
   "outputs": [
    {
     "data": {
      "text/plain": [
       "['name']"
      ]
     },
     "execution_count": 5,
     "metadata": {},
     "output_type": "execute_result"
    }
   ],
   "source": [
    "list(countries_df.columns.values)"
   ]
  },
  {
   "cell_type": "code",
   "execution_count": 6,
   "id": "febb3407",
   "metadata": {
    "scrolled": false
   },
   "outputs": [
    {
     "data": {
      "text/html": [
       "<div>\n",
       "<style scoped>\n",
       "    .dataframe tbody tr th:only-of-type {\n",
       "        vertical-align: middle;\n",
       "    }\n",
       "\n",
       "    .dataframe tbody tr th {\n",
       "        vertical-align: top;\n",
       "    }\n",
       "\n",
       "    .dataframe thead th {\n",
       "        text-align: right;\n",
       "    }\n",
       "</style>\n",
       "<table border=\"1\" class=\"dataframe\">\n",
       "  <thead>\n",
       "    <tr style=\"text-align: right;\">\n",
       "      <th></th>\n",
       "      <th>name</th>\n",
       "    </tr>\n",
       "  </thead>\n",
       "  <tbody>\n",
       "    <tr>\n",
       "      <th>0</th>\n",
       "      <td>Bonaire, Saint Eustatius and Saba</td>\n",
       "    </tr>\n",
       "    <tr>\n",
       "      <th>1</th>\n",
       "      <td>Aruba</td>\n",
       "    </tr>\n",
       "    <tr>\n",
       "      <th>2</th>\n",
       "      <td>Antigua and Barbuda</td>\n",
       "    </tr>\n",
       "    <tr>\n",
       "      <th>3</th>\n",
       "      <td>United Arab Emirates</td>\n",
       "    </tr>\n",
       "    <tr>\n",
       "      <th>4</th>\n",
       "      <td>Afghanistan</td>\n",
       "    </tr>\n",
       "    <tr>\n",
       "      <th>...</th>\n",
       "      <td>...</td>\n",
       "    </tr>\n",
       "    <tr>\n",
       "      <th>256</th>\n",
       "      <td>Samoa</td>\n",
       "    </tr>\n",
       "    <tr>\n",
       "      <th>257</th>\n",
       "      <td>Eswatini</td>\n",
       "    </tr>\n",
       "    <tr>\n",
       "      <th>258</th>\n",
       "      <td>Yemen</td>\n",
       "    </tr>\n",
       "    <tr>\n",
       "      <th>259</th>\n",
       "      <td>Zambia</td>\n",
       "    </tr>\n",
       "    <tr>\n",
       "      <th>260</th>\n",
       "      <td>Zimbabwe</td>\n",
       "    </tr>\n",
       "  </tbody>\n",
       "</table>\n",
       "<p>261 rows × 1 columns</p>\n",
       "</div>"
      ],
      "text/plain": [
       "                                  name\n",
       "0    Bonaire, Saint Eustatius and Saba\n",
       "1                                Aruba\n",
       "2                  Antigua and Barbuda\n",
       "3                 United Arab Emirates\n",
       "4                          Afghanistan\n",
       "..                                 ...\n",
       "256                              Samoa\n",
       "257                           Eswatini\n",
       "258                              Yemen\n",
       "259                             Zambia\n",
       "260                           Zimbabwe\n",
       "\n",
       "[261 rows x 1 columns]"
      ]
     },
     "execution_count": 6,
     "metadata": {},
     "output_type": "execute_result"
    }
   ],
   "source": [
    "countries_df"
   ]
  },
  {
   "cell_type": "markdown",
   "id": "b7c6a5e3",
   "metadata": {},
   "source": [
    "# Create JSON Data"
   ]
  },
  {
   "cell_type": "code",
   "execution_count": 7,
   "id": "51d3aa30",
   "metadata": {},
   "outputs": [],
   "source": [
    "countries_json = {}\n",
    "\n",
    "countries_count = len(countries_df)\n",
    "\n",
    "for country_index in range(countries_count):\n",
    "    country_name = countries_df.iloc[country_index][\"name\"]\n",
    "    countries_json[country_name] = {\n",
    "        \"airports\": [],\n",
    "        \"airlines\": {}\n",
    "    }"
   ]
  },
  {
   "cell_type": "markdown",
   "id": "4075df87",
   "metadata": {},
   "source": [
    "# Save Country Data"
   ]
  },
  {
   "cell_type": "code",
   "execution_count": 8,
   "id": "aa06a343",
   "metadata": {},
   "outputs": [],
   "source": [
    "countries_df.to_csv(COUNTRIES_FILE_CLEANED_CSV)"
   ]
  },
  {
   "cell_type": "code",
   "execution_count": 9,
   "id": "de1620da",
   "metadata": {},
   "outputs": [],
   "source": [
    "with open(COUNTRIES_FILE_CLEANED_JSON, 'w') as fp:\n",
    "    json.dump(countries_json, fp)"
   ]
  },
  {
   "cell_type": "code",
   "execution_count": null,
   "id": "f57e5579",
   "metadata": {},
   "outputs": [],
   "source": []
  }
 ],
 "metadata": {
  "kernelspec": {
   "display_name": "Python 3",
   "language": "python",
   "name": "python3"
  },
  "language_info": {
   "codemirror_mode": {
    "name": "ipython",
    "version": 3
   },
   "file_extension": ".py",
   "mimetype": "text/x-python",
   "name": "python",
   "nbconvert_exporter": "python",
   "pygments_lexer": "ipython3",
   "version": "3.8.8"
  }
 },
 "nbformat": 4,
 "nbformat_minor": 5
}
