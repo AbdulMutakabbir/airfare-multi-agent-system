{
 "cells": [
  {
   "cell_type": "code",
   "execution_count": 1,
   "id": "4f0ee859",
   "metadata": {},
   "outputs": [],
   "source": [
    "import pandas as pd\n",
    "import matplotlib.pyplot as plt\n",
    "import networkx as nx\n",
    "import json"
   ]
  },
  {
   "cell_type": "code",
   "execution_count": 2,
   "id": "72babc14",
   "metadata": {},
   "outputs": [],
   "source": [
    "EU_AIRPORTS_FILE_CLEANED_CSV = \"../data/cleaned/eu_cleaned_airports.csv\"\n",
    "EU_AIRPORTS_FILE_CLEANED_JSON = \"../data/cleaned/eu_cleaned_airports.json\"\n",
    "EU_AIRLINES_FILE_CLEANED_CSV = \"../data/cleaned/eu_cleaned_airlines.csv\"\n",
    "EU_COUNTRIES_FILE_CLEANED_JSON = \"../data/cleaned/eu_cleaned_countries.json\"\n",
    "EU_ROUTES_FILE_CLEANED = \"../data/cleaned/eu_cleaned_routes.csv\"\n",
    "EU_WORLD_DATA_FILE = \"../data/cleaned/eu_world_data.json\""
   ]
  },
  {
   "cell_type": "markdown",
   "id": "cdb8cd9f",
   "metadata": {},
   "source": [
    "# Read Data"
   ]
  },
  {
   "cell_type": "code",
   "execution_count": 3,
   "id": "d1f1cb59",
   "metadata": {},
   "outputs": [],
   "source": [
    "with open(EU_COUNTRIES_FILE_CLEANED_JSON) as f:\n",
    "    eu_countries = json.load(f)"
   ]
  },
  {
   "cell_type": "code",
   "execution_count": 4,
   "id": "e36d3ad0",
   "metadata": {},
   "outputs": [],
   "source": [
    "with open(EU_AIRPORTS_FILE_CLEANED_JSON) as f:\n",
    "    eu_airports = json.load(f)"
   ]
  },
  {
   "cell_type": "code",
   "execution_count": 5,
   "id": "12da33a7",
   "metadata": {},
   "outputs": [],
   "source": [
    "eu_airports_df = pd.read_csv(EU_AIRPORTS_FILE_CLEANED_CSV, \n",
    "                              index_col = 0, \n",
    "                              header=0)\n",
    "# eu_airports_df.head()"
   ]
  },
  {
   "cell_type": "code",
   "execution_count": 6,
   "id": "d5933bd8",
   "metadata": {},
   "outputs": [],
   "source": [
    "eu_airlines_df = pd.read_csv(EU_AIRLINES_FILE_CLEANED_CSV, \n",
    "                              index_col = 0, \n",
    "                              header=0)\n",
    "# eu_airlines_df.head()"
   ]
  },
  {
   "cell_type": "code",
   "execution_count": 7,
   "id": "3cb985b1",
   "metadata": {},
   "outputs": [],
   "source": [
    "eu_routes_df = pd.read_csv(EU_ROUTES_FILE_CLEANED, \n",
    "                              index_col = 0, \n",
    "                              header=0)\n",
    "# eu_routes_df.head()"
   ]
  },
  {
   "cell_type": "markdown",
   "id": "cbc0a00c",
   "metadata": {},
   "source": [
    "# Create EU World"
   ]
  },
  {
   "cell_type": "code",
   "execution_count": 8,
   "id": "c95c8ef7",
   "metadata": {},
   "outputs": [],
   "source": [
    "world = {}\n",
    "\n",
    "world[\"countries\"] = eu_countries\n",
    "world[\"airports\"] = eu_airports"
   ]
  },
  {
   "cell_type": "code",
   "execution_count": 9,
   "id": "53b78167",
   "metadata": {},
   "outputs": [],
   "source": [
    "eu_airports_by_country = eu_airports_df.groupby('Country').agg(lambda x: list(x))\n",
    "for country in eu_airports_by_country.index:\n",
    "    if country in world[\"countries\"]:\n",
    "        airports_list = eu_airports_by_country.loc[(country)]\n",
    "        airports_count = len(airports_list[0])\n",
    "        world[\"countries\"][country][\"airports\"] = []\n",
    "        for airport_index in range(airports_count):\n",
    "            world[\"countries\"][country][\"airports\"].append(airports_list[2][airport_index])"
   ]
  },
  {
   "cell_type": "code",
   "execution_count": 10,
   "id": "b7e0c396",
   "metadata": {},
   "outputs": [],
   "source": [
    "eu_airlines_by_country = eu_airlines_df.groupby('Country').agg(lambda x: list(x))\n",
    "for country in eu_airlines_by_country.index:\n",
    "    if country in world[\"countries\"]:\n",
    "        airline_list = eu_airlines_by_country.loc[(country)]\n",
    "        airline_count = len(airline_list[0]) \n",
    "        world[\"countries\"][country][\"airlines\"] = {}\n",
    "        for airline_index in range(airline_count):\n",
    "            world[\"countries\"][country][\"airlines\"][airline_list[1][airline_index]] = {\n",
    "                \"name\": airline_list[0][airline_index],\n",
    "                \"iata\": airline_list[1][airline_index],\n",
    "                \"airplanes\": {}\n",
    "            }"
   ]
  },
  {
   "cell_type": "code",
   "execution_count": 11,
   "id": "66f8dfd7",
   "metadata": {},
   "outputs": [],
   "source": [
    "eu_routes_by_country_airline = eu_routes_df[[\"Airline_Country\",\n",
    "                                             \"Airline_Name\",\n",
    "                                             \"Airline_Code\",\n",
    "                                             \"Airport_Code_Source\",\n",
    "                                             \"Name_Source\",\n",
    "                                             \"Country_Source\",\n",
    "                                             \"Airport_Code_Destination\",\n",
    "                                             \"Name_Destination\",\n",
    "                                             \"Country_Destination\",\n",
    "                                             \"Distance_Km\"]].groupby([\"Airline_Country\",\n",
    "                                                                      \"Airline_Code\"]).agg(lambda x: list(x))"
   ]
  },
  {
   "cell_type": "code",
   "execution_count": 12,
   "id": "5c412812",
   "metadata": {},
   "outputs": [],
   "source": [
    "for country,airline in eu_routes_by_country_airline.index:\n",
    "    if country in world[\"countries\"]:\n",
    "        if airline in world[\"countries\"][country][\"airlines\"]:\n",
    "            route_list = eu_routes_by_country_airline.loc[(country,airline)]\n",
    "            route_count = len(route_list[0])\n",
    "            world[\"countries\"][country][\"airlines\"][airline][\"airplanes\"] = {}\n",
    "            for route_index in range(route_count):\n",
    "                source_country = route_list[3][route_index]\n",
    "                source_airport = route_list[1][route_index]\n",
    "                dest_country = route_list[6][route_index]\n",
    "                dest_airport = route_list[4][route_index]\n",
    "                if source_country in world[\"countries\"]:\n",
    "                    if dest_country in world[\"countries\"]:\n",
    "                        if source_airport in world[\"airports\"]:\n",
    "                            if dest_airport in world[\"airports\"]:\n",
    "                                airplane_id = airline + \"-\" + source_airport + \"-\" + dest_airport\n",
    "                                world[\"countries\"][country][\"airlines\"][airline][\"airplanes\"][airplane_id] = {\n",
    "                                    \"airline\": airline,\n",
    "                                    \"source_airport\": source_airport,\n",
    "                                    \"destination_airport\": dest_airport,\n",
    "                                    \"distance\": route_list[7][route_index]\n",
    "                                }"
   ]
  },
  {
   "cell_type": "code",
   "execution_count": 13,
   "id": "1d600cf9",
   "metadata": {},
   "outputs": [],
   "source": [
    "# world[\"countries\"][\"Belgium\"][\"airlines\"][\"SN\"][\"airplanes\"][\"SN-BRU-FCO\"]"
   ]
  },
  {
   "cell_type": "code",
   "execution_count": 14,
   "id": "710fc94a",
   "metadata": {},
   "outputs": [],
   "source": [
    "# world[\"airports\"]"
   ]
  },
  {
   "cell_type": "markdown",
   "id": "eb9df55d",
   "metadata": {},
   "source": [
    "# Save EU World"
   ]
  },
  {
   "cell_type": "code",
   "execution_count": 15,
   "id": "4eb9733e",
   "metadata": {},
   "outputs": [],
   "source": [
    "with open(EU_WORLD_DATA_FILE, 'w') as fp:\n",
    "    json.dump(world, fp)"
   ]
  },
  {
   "cell_type": "code",
   "execution_count": null,
   "id": "c123798b",
   "metadata": {},
   "outputs": [],
   "source": []
  }
 ],
 "metadata": {
  "kernelspec": {
   "display_name": "Python 3",
   "language": "python",
   "name": "python3"
  },
  "language_info": {
   "codemirror_mode": {
    "name": "ipython",
    "version": 3
   },
   "file_extension": ".py",
   "mimetype": "text/x-python",
   "name": "python",
   "nbconvert_exporter": "python",
   "pygments_lexer": "ipython3",
   "version": "3.8.8"
  }
 },
 "nbformat": 4,
 "nbformat_minor": 5
}
