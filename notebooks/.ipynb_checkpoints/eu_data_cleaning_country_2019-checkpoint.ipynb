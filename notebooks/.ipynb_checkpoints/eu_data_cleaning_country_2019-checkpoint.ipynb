{
 "cells": [
  {
   "cell_type": "code",
   "execution_count": 1,
   "id": "ada0fccb",
   "metadata": {},
   "outputs": [],
   "source": [
    "import pandas as pd\n",
    "import json"
   ]
  },
  {
   "cell_type": "code",
   "execution_count": 2,
   "id": "9b88d221",
   "metadata": {},
   "outputs": [],
   "source": [
    "EU_COUNTRIES_FILE_CLEANED_CSV = \"../data/cleaned/eu_cleaned_countries.csv\"\n",
    "\n",
    "EU_COUNTRIES_2019_FILE_CLEANED_JSON = \"../data/cleaned/eu_cleaned_countries_2019.json\"\n",
    "EU_COUNTRIES_2019_FILE_CLEANED_CSV = \"../data/cleaned/eu_cleaned_countries_2019.csv\"\n",
    "\n",
    "EU_AIRPORTS_2019_FILE_CLEANED_CSV = \"../data/cleaned/eu_cleaned_airports_2019.csv\"\n",
    "\n",
    "COUNTRIES_FILE_CLEANED_JSON = \"../data/cleaned/cleaned_earth_countries.json\""
   ]
  },
  {
   "cell_type": "markdown",
   "id": "3b16c5fa",
   "metadata": {},
   "source": [
    "# Read Countries Data"
   ]
  },
  {
   "cell_type": "code",
   "execution_count": 3,
   "id": "2e236ac4",
   "metadata": {},
   "outputs": [],
   "source": [
    "eu_countries_df = pd.read_csv(EU_COUNTRIES_FILE_CLEANED_CSV, \n",
    "                               index_col = 0, \n",
    "                               header=0)\n",
    "# eu_countries_df"
   ]
  },
  {
   "cell_type": "code",
   "execution_count": 4,
   "id": "1fbb7037",
   "metadata": {},
   "outputs": [],
   "source": [
    "eu_airports_2019 = pd.read_csv(EU_AIRPORTS_2019_FILE_CLEANED_CSV, \n",
    "                               index_col = 0, \n",
    "                               header=0)\n",
    "# eu_airports_2019"
   ]
  },
  {
   "cell_type": "markdown",
   "id": "4871cf14",
   "metadata": {},
   "source": [
    "# Country Data Cleaning"
   ]
  },
  {
   "cell_type": "code",
   "execution_count": 5,
   "id": "b8f30882",
   "metadata": {},
   "outputs": [],
   "source": [
    "eu_countries_2019_df = eu_countries_df.join(eu_airports_2019.groupby('Country').count(),\n",
    "                                         on=\"country\",\n",
    "                                         how=\"inner\")\n",
    "# eu_countries_2019_df"
   ]
  },
  {
   "cell_type": "code",
   "execution_count": 6,
   "id": "ae55ec26",
   "metadata": {},
   "outputs": [],
   "source": [
    "eu_countries_2019_df.drop(['Name','City','Latitude','Longitude','Altitude','IATA'], inplace = True, axis =1)"
   ]
  },
  {
   "cell_type": "code",
   "execution_count": 7,
   "id": "bb4d7e40",
   "metadata": {},
   "outputs": [
    {
     "data": {
      "text/plain": [
       "['country']"
      ]
     },
     "execution_count": 7,
     "metadata": {},
     "output_type": "execute_result"
    }
   ],
   "source": [
    "list(eu_countries_2019_df.columns.values)"
   ]
  },
  {
   "cell_type": "code",
   "execution_count": 8,
   "id": "febb3407",
   "metadata": {
    "scrolled": false
   },
   "outputs": [
    {
     "data": {
      "text/html": [
       "<div>\n",
       "<style scoped>\n",
       "    .dataframe tbody tr th:only-of-type {\n",
       "        vertical-align: middle;\n",
       "    }\n",
       "\n",
       "    .dataframe tbody tr th {\n",
       "        vertical-align: top;\n",
       "    }\n",
       "\n",
       "    .dataframe thead th {\n",
       "        text-align: right;\n",
       "    }\n",
       "</style>\n",
       "<table border=\"1\" class=\"dataframe\">\n",
       "  <thead>\n",
       "    <tr style=\"text-align: right;\">\n",
       "      <th></th>\n",
       "      <th>country</th>\n",
       "    </tr>\n",
       "  </thead>\n",
       "  <tbody>\n",
       "    <tr>\n",
       "      <th>0</th>\n",
       "      <td>Austria</td>\n",
       "    </tr>\n",
       "    <tr>\n",
       "      <th>1</th>\n",
       "      <td>Belgium</td>\n",
       "    </tr>\n",
       "    <tr>\n",
       "      <th>2</th>\n",
       "      <td>Bulgaria</td>\n",
       "    </tr>\n",
       "    <tr>\n",
       "      <th>3</th>\n",
       "      <td>Croatia</td>\n",
       "    </tr>\n",
       "    <tr>\n",
       "      <th>4</th>\n",
       "      <td>Czech Republic</td>\n",
       "    </tr>\n",
       "  </tbody>\n",
       "</table>\n",
       "</div>"
      ],
      "text/plain": [
       "          country\n",
       "0         Austria\n",
       "1         Belgium\n",
       "2        Bulgaria\n",
       "3         Croatia\n",
       "4  Czech Republic"
      ]
     },
     "execution_count": 8,
     "metadata": {},
     "output_type": "execute_result"
    }
   ],
   "source": [
    "eu_countries_2019_df.reset_index(drop=True, inplace=True)\n",
    "eu_countries_2019_df.head()"
   ]
  },
  {
   "cell_type": "markdown",
   "id": "b7c6a5e3",
   "metadata": {},
   "source": [
    "# Create JSON Data"
   ]
  },
  {
   "cell_type": "code",
   "execution_count": 9,
   "id": "bdc3ce33",
   "metadata": {},
   "outputs": [],
   "source": [
    "with open(COUNTRIES_FILE_CLEANED_JSON) as f:\n",
    "    all_countries = json.load(f)"
   ]
  },
  {
   "cell_type": "code",
   "execution_count": 10,
   "id": "51d3aa30",
   "metadata": {},
   "outputs": [],
   "source": [
    "eu_2019_countries_json = {}\n",
    "\n",
    "eu_countries_count = len(eu_countries_2019_df)\n",
    "\n",
    "for country_index in range(eu_countries_count):\n",
    "    country_name = eu_countries_2019_df.iloc[country_index][\"country\"]\n",
    "    eu_2019_countries_json[country_name] = all_countries[country_name]\n",
    "    \n",
    "# eu_2019_countries_json"
   ]
  },
  {
   "cell_type": "markdown",
   "id": "4075df87",
   "metadata": {},
   "source": [
    "# Save Country Data"
   ]
  },
  {
   "cell_type": "code",
   "execution_count": 11,
   "id": "aa06a343",
   "metadata": {},
   "outputs": [],
   "source": [
    "eu_countries_2019_df.to_csv(EU_COUNTRIES_2019_FILE_CLEANED_CSV)"
   ]
  },
  {
   "cell_type": "code",
   "execution_count": 12,
   "id": "de1620da",
   "metadata": {},
   "outputs": [],
   "source": [
    "with open(EU_COUNTRIES_2019_FILE_CLEANED_JSON, 'w') as fp:\n",
    "    json.dump(eu_2019_countries_json, fp)"
   ]
  },
  {
   "cell_type": "code",
   "execution_count": null,
   "id": "f57e5579",
   "metadata": {},
   "outputs": [],
   "source": []
  }
 ],
 "metadata": {
  "kernelspec": {
   "display_name": "Python 3",
   "language": "python",
   "name": "python3"
  },
  "language_info": {
   "codemirror_mode": {
    "name": "ipython",
    "version": 3
   },
   "file_extension": ".py",
   "mimetype": "text/x-python",
   "name": "python",
   "nbconvert_exporter": "python",
   "pygments_lexer": "ipython3",
   "version": "3.8.8"
  }
 },
 "nbformat": 4,
 "nbformat_minor": 5
}
