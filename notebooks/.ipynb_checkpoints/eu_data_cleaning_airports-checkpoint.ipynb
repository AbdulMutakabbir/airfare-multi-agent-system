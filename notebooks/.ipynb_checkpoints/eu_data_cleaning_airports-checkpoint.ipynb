{
 "cells": [
  {
   "cell_type": "code",
   "execution_count": 1,
   "id": "c8bd5142",
   "metadata": {},
   "outputs": [],
   "source": [
    "import pandas as pd\n",
    "import matplotlib.pyplot as plt\n",
    "import json"
   ]
  },
  {
   "cell_type": "code",
   "execution_count": 2,
   "id": "8a941e94",
   "metadata": {},
   "outputs": [],
   "source": [
    "AIRPORTS_FILE_CLEANED_CSV = \"../data/cleaned/cleaned_earth_airports.csv\"\n",
    "AIRPORTS_FILE_CLEANED_JSON = \"../data/cleaned/cleaned_earth_airports.json\"\n",
    "\n",
    "EU_COUNTRIES_FILE_CLEANED_CSV = \"../data/cleaned/eu_cleaned_countries.csv\"\n",
    "\n",
    "EU_AIRPORTS_FILE_CLEANED_CSV = \"../data/cleaned/eu_cleaned_airports.csv\"\n",
    "EU_AIRPORTS_FILE_CLEANED_JSON = \"../data/cleaned/eu_cleaned_airports.json\""
   ]
  },
  {
   "cell_type": "markdown",
   "id": "7500f97b",
   "metadata": {},
   "source": [
    "# Read Data"
   ]
  },
  {
   "cell_type": "code",
   "execution_count": 3,
   "id": "00e12a42",
   "metadata": {
    "scrolled": true
   },
   "outputs": [],
   "source": [
    "all_airports_df = pd.read_csv(AIRPORTS_FILE_CLEANED_CSV, \n",
    "                              index_col = 0, \n",
    "                              header=0)"
   ]
  },
  {
   "cell_type": "code",
   "execution_count": 4,
   "id": "7d68080c",
   "metadata": {},
   "outputs": [],
   "source": [
    "eu_countries_df = pd.read_csv(EU_COUNTRIES_FILE_CLEANED_CSV, \n",
    "                              index_col = 0, \n",
    "                              header=0)"
   ]
  },
  {
   "cell_type": "code",
   "execution_count": 7,
   "id": "40d724ae",
   "metadata": {},
   "outputs": [],
   "source": [
    "with open(AIRPORTS_FILE_CLEANED_JSON) as f:\n",
    "    all_airports = json.load(f)"
   ]
  },
  {
   "cell_type": "markdown",
   "id": "636a212d",
   "metadata": {},
   "source": [
    "# Airport Data Cleaning"
   ]
  },
  {
   "cell_type": "code",
   "execution_count": 5,
   "id": "b8c7db63",
   "metadata": {},
   "outputs": [],
   "source": [
    "eu_countries_list = eu_countries_df['country'].values\n",
    "\n",
    "eu_airports_df = all_airports_df[all_airports_df['Country'].isin(eu_countries_list)]"
   ]
  },
  {
   "cell_type": "code",
   "execution_count": 6,
   "id": "3aac2f5d",
   "metadata": {},
   "outputs": [
    {
     "data": {
      "text/html": [
       "<div>\n",
       "<style scoped>\n",
       "    .dataframe tbody tr th:only-of-type {\n",
       "        vertical-align: middle;\n",
       "    }\n",
       "\n",
       "    .dataframe tbody tr th {\n",
       "        vertical-align: top;\n",
       "    }\n",
       "\n",
       "    .dataframe thead th {\n",
       "        text-align: right;\n",
       "    }\n",
       "</style>\n",
       "<table border=\"1\" class=\"dataframe\">\n",
       "  <thead>\n",
       "    <tr style=\"text-align: right;\">\n",
       "      <th></th>\n",
       "      <th>Name</th>\n",
       "      <th>City</th>\n",
       "      <th>Country</th>\n",
       "      <th>IATA</th>\n",
       "      <th>Latitude</th>\n",
       "      <th>Longitude</th>\n",
       "      <th>Altitude</th>\n",
       "    </tr>\n",
       "  </thead>\n",
       "  <tbody>\n",
       "    <tr>\n",
       "      <th>0</th>\n",
       "      <td>Antwerp International Airport (Deurne)</td>\n",
       "      <td>Antwerp</td>\n",
       "      <td>Belgium</td>\n",
       "      <td>ANR</td>\n",
       "      <td>51.189400</td>\n",
       "      <td>4.46028</td>\n",
       "      <td>39</td>\n",
       "    </tr>\n",
       "    <tr>\n",
       "      <th>1</th>\n",
       "      <td>Brussels Airport</td>\n",
       "      <td>Brussels</td>\n",
       "      <td>Belgium</td>\n",
       "      <td>BRU</td>\n",
       "      <td>50.901402</td>\n",
       "      <td>4.48444</td>\n",
       "      <td>184</td>\n",
       "    </tr>\n",
       "    <tr>\n",
       "      <th>2</th>\n",
       "      <td>Brussels South Charleroi Airport</td>\n",
       "      <td>Charleroi</td>\n",
       "      <td>Belgium</td>\n",
       "      <td>CRL</td>\n",
       "      <td>50.459202</td>\n",
       "      <td>4.45382</td>\n",
       "      <td>614</td>\n",
       "    </tr>\n",
       "    <tr>\n",
       "      <th>3</th>\n",
       "      <td>Wevelgem Airport</td>\n",
       "      <td>Kortrijk-vevelgem</td>\n",
       "      <td>Belgium</td>\n",
       "      <td>KJK</td>\n",
       "      <td>50.817200</td>\n",
       "      <td>3.20472</td>\n",
       "      <td>64</td>\n",
       "    </tr>\n",
       "    <tr>\n",
       "      <th>4</th>\n",
       "      <td>Liège Airport</td>\n",
       "      <td>Liege</td>\n",
       "      <td>Belgium</td>\n",
       "      <td>LGG</td>\n",
       "      <td>50.637402</td>\n",
       "      <td>5.44322</td>\n",
       "      <td>659</td>\n",
       "    </tr>\n",
       "  </tbody>\n",
       "</table>\n",
       "</div>"
      ],
      "text/plain": [
       "                                     Name               City  Country IATA  \\\n",
       "0  Antwerp International Airport (Deurne)            Antwerp  Belgium  ANR   \n",
       "1                        Brussels Airport           Brussels  Belgium  BRU   \n",
       "2        Brussels South Charleroi Airport          Charleroi  Belgium  CRL   \n",
       "3                        Wevelgem Airport  Kortrijk-vevelgem  Belgium  KJK   \n",
       "4                           Liège Airport              Liege  Belgium  LGG   \n",
       "\n",
       "    Latitude  Longitude  Altitude  \n",
       "0  51.189400    4.46028        39  \n",
       "1  50.901402    4.48444       184  \n",
       "2  50.459202    4.45382       614  \n",
       "3  50.817200    3.20472        64  \n",
       "4  50.637402    5.44322       659  "
      ]
     },
     "execution_count": 6,
     "metadata": {},
     "output_type": "execute_result"
    }
   ],
   "source": [
    "eu_airports_df.reset_index(drop=True, inplace=True)\n",
    "eu_airports_df.head()"
   ]
  },
  {
   "cell_type": "markdown",
   "id": "5c92c07c",
   "metadata": {},
   "source": [
    "# Create JSON Data"
   ]
  },
  {
   "cell_type": "code",
   "execution_count": 8,
   "id": "7e23835a",
   "metadata": {},
   "outputs": [],
   "source": [
    "eu_airports_json = {}\n",
    "\n",
    "eu_airports_count = len(eu_airports_df)\n",
    "\n",
    "for eu_airport_index in range(eu_airports_count):\n",
    "    eu_airport_data = eu_airports_df.iloc[eu_airport_index]\n",
    "    eu_airport_code = eu_airport_data[\"IATA\"]\n",
    "    eu_airports_json[eu_airport_code] = all_airports[eu_airport_code]"
   ]
  },
  {
   "cell_type": "markdown",
   "id": "9d8da300",
   "metadata": {},
   "source": [
    "# Ariport Visulization"
   ]
  },
  {
   "cell_type": "code",
   "execution_count": 9,
   "id": "70aa523d",
   "metadata": {},
   "outputs": [
    {
     "name": "stdout",
     "output_type": "stream",
     "text": [
      "number of countries: 27\n"
     ]
    }
   ],
   "source": [
    "no_of_countries = len(eu_airports_df[\"Country\"].value_counts())\n",
    "print(\"number of countries:\", no_of_countries)"
   ]
  },
  {
   "cell_type": "code",
   "execution_count": 10,
   "id": "8805a736",
   "metadata": {},
   "outputs": [
    {
     "data": {
      "image/png": "[encoded data removed]",
      "text/plain": [
       "<Figure size 504x144 with 1 Axes>"
      ]
     },
     "metadata": {
      "needs_background": "light"
     },
     "output_type": "display_data"
    }
   ],
   "source": [
    "plt.close(\"all\")\n",
    "plt.figure()\n",
    "name_plt = eu_airports_df[\"Country\"].value_counts().plot(kind='bar',figsize=(7,2))\n",
    "name_plt.set_xlabel(\"Country\")\n",
    "name_plt.set_ylabel(\"No. of Airports\")\n",
    "plt.show()"
   ]
  },
  {
   "cell_type": "markdown",
   "id": "9be8f1d8",
   "metadata": {},
   "source": [
    "# Save Airport Data"
   ]
  },
  {
   "cell_type": "code",
   "execution_count": 11,
   "id": "2b5f9779",
   "metadata": {},
   "outputs": [],
   "source": [
    "eu_airports_df.to_csv(EU_AIRPORTS_FILE_CLEANED_CSV)"
   ]
  },
  {
   "cell_type": "code",
   "execution_count": 12,
   "id": "121739d9",
   "metadata": {},
   "outputs": [],
   "source": [
    "with open(EU_AIRPORTS_FILE_CLEANED_JSON, 'w') as fp:\n",
    "    json.dump(eu_airports_json, fp)"
   ]
  },
  {
   "cell_type": "code",
   "execution_count": null,
   "id": "5f82ad06",
   "metadata": {},
   "outputs": [],
   "source": []
  }
 ],
 "metadata": {
  "kernelspec": {
   "display_name": "Python 3",
   "language": "python",
   "name": "python3"
  },
  "language_info": {
   "codemirror_mode": {
    "name": "ipython",
    "version": 3
   },
   "file_extension": ".py",
   "mimetype": "text/x-python",
   "name": "python",
   "nbconvert_exporter": "python",
   "pygments_lexer": "ipython3",
   "version": "3.8.8"
  }
 },
 "nbformat": 4,
 "nbformat_minor": 5
}
