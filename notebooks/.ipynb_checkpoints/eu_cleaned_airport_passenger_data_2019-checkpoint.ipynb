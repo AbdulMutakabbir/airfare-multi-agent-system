{
 "cells": [
  {
   "cell_type": "code",
   "execution_count": 1,
   "id": "67a4fb43",
   "metadata": {},
   "outputs": [],
   "source": [
    "import pandas as pd\n",
    "import matplotlib.pyplot as plt\n",
    "import seaborn as sns"
   ]
  },
  {
   "cell_type": "code",
   "execution_count": 2,
   "id": "677acea5",
   "metadata": {},
   "outputs": [],
   "source": [
    "EU_AIRPORT_2019_CLEANED_CODES_FILE  = \"../data/cleaned/eu_cleaned_airports_2019_codes_passenger_date.csv\"\n",
    "EU_AIRPORT_2019_CLEANED_PASSANGER_STAT_FILE_LOC = \"../data/cleaned/eu_cleaned_airports_2019_passenger_data.csv\"\n",
    "EU_AIRPORT_2019_COMPLETE_CLEANED_PASSANGER_STAT_FILE_LOC = \"../data/cleaned/eu_cleaned_airports_2019_passenger_data_complete.csv\""
   ]
  },
  {
   "cell_type": "markdown",
   "id": "00eea533",
   "metadata": {},
   "source": [
    "# Read Data"
   ]
  },
  {
   "cell_type": "code",
   "execution_count": 3,
   "id": "6aa79927",
   "metadata": {},
   "outputs": [],
   "source": [
    "df_eu_cleaned_airport_2019_passanger_stats = pd.read_csv(EU_AIRPORT_2019_CLEANED_PASSANGER_STAT_FILE_LOC, \n",
    "                                                         index_col = 0, \n",
    "                                                         header=0)\n",
    "# df_eu_cleaned_airport_2019_passanger_stats.head()"
   ]
  },
  {
   "cell_type": "code",
   "execution_count": 4,
   "id": "560b52bd",
   "metadata": {},
   "outputs": [],
   "source": [
    "df_eu_cleaned_airport_code_2019 = pd.read_csv(EU_AIRPORT_2019_CLEANED_CODES_FILE, \n",
    "                                 index_col = 0, \n",
    "                                 header=0)\n",
    "# df_eu_cleaned_airport_code_2019.head()"
   ]
  },
  {
   "cell_type": "markdown",
   "id": "f090f334",
   "metadata": {},
   "source": [
    "# Merging Dataset "
   ]
  },
  {
   "cell_type": "code",
   "execution_count": 5,
   "id": "79ab2b26",
   "metadata": {},
   "outputs": [],
   "source": [
    "df_2019_airport_passenger_stats_complete = df_eu_cleaned_airport_code_2019.join(df_eu_cleaned_airport_2019_passanger_stats, on=\"Name\", how=\"inner\")"
   ]
  },
  {
   "cell_type": "code",
   "execution_count": 6,
   "id": "7a892bcf",
   "metadata": {
    "scrolled": false
   },
   "outputs": [],
   "source": [
    "df_2019_airport_passenger_stats_complete.drop([\"Name\",\n",
    "                      \"City\",\n",
    "                      \"Country\",\n",
    "                      \"Latitude\",\n",
    "                      \"Longitude\",\n",
    "                      \"Altitude\"], inplace = True, axis =1)"
   ]
  },
  {
   "cell_type": "code",
   "execution_count": 7,
   "id": "6a343c80",
   "metadata": {},
   "outputs": [],
   "source": [
    "df_2019_airport_passenger_stats_complete = df_2019_airport_passenger_stats_complete.set_index(\"IATA\").apply(lambda x: round(x/30))"
   ]
  },
  {
   "cell_type": "code",
   "execution_count": 8,
   "id": "58f3139a",
   "metadata": {},
   "outputs": [
    {
     "data": {
      "text/html": [
       "<div>\n",
       "<style scoped>\n",
       "    .dataframe tbody tr th:only-of-type {\n",
       "        vertical-align: middle;\n",
       "    }\n",
       "\n",
       "    .dataframe tbody tr th {\n",
       "        vertical-align: top;\n",
       "    }\n",
       "\n",
       "    .dataframe thead th {\n",
       "        text-align: right;\n",
       "    }\n",
       "</style>\n",
       "<table border=\"1\" class=\"dataframe\">\n",
       "  <thead>\n",
       "    <tr style=\"text-align: right;\">\n",
       "      <th></th>\n",
       "      <th>1</th>\n",
       "      <th>2</th>\n",
       "      <th>3</th>\n",
       "      <th>4</th>\n",
       "      <th>5</th>\n",
       "      <th>6</th>\n",
       "      <th>7</th>\n",
       "      <th>8</th>\n",
       "      <th>9</th>\n",
       "      <th>10</th>\n",
       "      <th>11</th>\n",
       "      <th>12</th>\n",
       "    </tr>\n",
       "    <tr>\n",
       "      <th>IATA</th>\n",
       "      <th></th>\n",
       "      <th></th>\n",
       "      <th></th>\n",
       "      <th></th>\n",
       "      <th></th>\n",
       "      <th></th>\n",
       "      <th></th>\n",
       "      <th></th>\n",
       "      <th></th>\n",
       "      <th></th>\n",
       "      <th></th>\n",
       "      <th></th>\n",
       "    </tr>\n",
       "  </thead>\n",
       "  <tbody>\n",
       "    <tr>\n",
       "      <th>LCG</th>\n",
       "      <td>3023.0</td>\n",
       "      <td>3013.0</td>\n",
       "      <td>3600.0</td>\n",
       "      <td>3723.0</td>\n",
       "      <td>3950.0</td>\n",
       "      <td>4156.0</td>\n",
       "      <td>4336.0</td>\n",
       "      <td>3977.0</td>\n",
       "      <td>4038.0</td>\n",
       "      <td>4138.0</td>\n",
       "      <td>3547.0</td>\n",
       "      <td>3448.0</td>\n",
       "    </tr>\n",
       "    <tr>\n",
       "      <th>AAL</th>\n",
       "      <td>3446.0</td>\n",
       "      <td>3466.0</td>\n",
       "      <td>4062.0</td>\n",
       "      <td>3832.0</td>\n",
       "      <td>4376.0</td>\n",
       "      <td>4484.0</td>\n",
       "      <td>4239.0</td>\n",
       "      <td>4259.0</td>\n",
       "      <td>4746.0</td>\n",
       "      <td>4568.0</td>\n",
       "      <td>3588.0</td>\n",
       "      <td>3068.0</td>\n",
       "    </tr>\n",
       "    <tr>\n",
       "      <th>AAR</th>\n",
       "      <td>1132.0</td>\n",
       "      <td>1208.0</td>\n",
       "      <td>1399.0</td>\n",
       "      <td>1347.0</td>\n",
       "      <td>1611.0</td>\n",
       "      <td>1615.0</td>\n",
       "      <td>1317.0</td>\n",
       "      <td>1351.0</td>\n",
       "      <td>1669.0</td>\n",
       "      <td>1615.0</td>\n",
       "      <td>1288.0</td>\n",
       "      <td>1073.0</td>\n",
       "    </tr>\n",
       "    <tr>\n",
       "      <th>MAD</th>\n",
       "      <td>142197.0</td>\n",
       "      <td>134757.0</td>\n",
       "      <td>158732.0</td>\n",
       "      <td>163220.0</td>\n",
       "      <td>168996.0</td>\n",
       "      <td>180491.0</td>\n",
       "      <td>191913.0</td>\n",
       "      <td>186526.0</td>\n",
       "      <td>179644.0</td>\n",
       "      <td>176769.0</td>\n",
       "      <td>153942.0</td>\n",
       "      <td>156972.0</td>\n",
       "    </tr>\n",
       "    <tr>\n",
       "      <th>AJA</th>\n",
       "      <td>1883.0</td>\n",
       "      <td>1706.0</td>\n",
       "      <td>2213.0</td>\n",
       "      <td>4544.0</td>\n",
       "      <td>5542.0</td>\n",
       "      <td>6911.0</td>\n",
       "      <td>7902.0</td>\n",
       "      <td>8778.0</td>\n",
       "      <td>6518.0</td>\n",
       "      <td>4272.0</td>\n",
       "      <td>2143.0</td>\n",
       "      <td>1562.0</td>\n",
       "    </tr>\n",
       "    <tr>\n",
       "      <th>...</th>\n",
       "      <td>...</td>\n",
       "      <td>...</td>\n",
       "      <td>...</td>\n",
       "      <td>...</td>\n",
       "      <td>...</td>\n",
       "      <td>...</td>\n",
       "      <td>...</td>\n",
       "      <td>...</td>\n",
       "      <td>...</td>\n",
       "      <td>...</td>\n",
       "      <td>...</td>\n",
       "      <td>...</td>\n",
       "    </tr>\n",
       "    <tr>\n",
       "      <th>VGO</th>\n",
       "      <td>2404.0</td>\n",
       "      <td>2381.0</td>\n",
       "      <td>2827.0</td>\n",
       "      <td>2933.0</td>\n",
       "      <td>2972.0</td>\n",
       "      <td>3001.0</td>\n",
       "      <td>3356.0</td>\n",
       "      <td>3191.0</td>\n",
       "      <td>3095.0</td>\n",
       "      <td>2964.0</td>\n",
       "      <td>2395.0</td>\n",
       "      <td>2257.0</td>\n",
       "    </tr>\n",
       "    <tr>\n",
       "      <th>VRL</th>\n",
       "      <td>9.0</td>\n",
       "      <td>8.0</td>\n",
       "      <td>12.0</td>\n",
       "      <td>24.0</td>\n",
       "      <td>23.0</td>\n",
       "      <td>27.0</td>\n",
       "      <td>16.0</td>\n",
       "      <td>0.0</td>\n",
       "      <td>0.0</td>\n",
       "      <td>0.0</td>\n",
       "      <td>0.0</td>\n",
       "      <td>0.0</td>\n",
       "    </tr>\n",
       "    <tr>\n",
       "      <th>VNO</th>\n",
       "      <td>11307.0</td>\n",
       "      <td>10459.0</td>\n",
       "      <td>11904.0</td>\n",
       "      <td>13938.0</td>\n",
       "      <td>16302.0</td>\n",
       "      <td>15703.0</td>\n",
       "      <td>14950.0</td>\n",
       "      <td>15655.0</td>\n",
       "      <td>15597.0</td>\n",
       "      <td>16183.0</td>\n",
       "      <td>12795.0</td>\n",
       "      <td>12092.0</td>\n",
       "    </tr>\n",
       "    <tr>\n",
       "      <th>VBY</th>\n",
       "      <td>801.0</td>\n",
       "      <td>843.0</td>\n",
       "      <td>1009.0</td>\n",
       "      <td>1118.0</td>\n",
       "      <td>1303.0</td>\n",
       "      <td>1509.0</td>\n",
       "      <td>2331.0</td>\n",
       "      <td>1544.0</td>\n",
       "      <td>1373.0</td>\n",
       "      <td>1191.0</td>\n",
       "      <td>999.0</td>\n",
       "      <td>880.0</td>\n",
       "    </tr>\n",
       "    <tr>\n",
       "      <th>VIT</th>\n",
       "      <td>330.0</td>\n",
       "      <td>291.0</td>\n",
       "      <td>364.0</td>\n",
       "      <td>599.0</td>\n",
       "      <td>571.0</td>\n",
       "      <td>530.0</td>\n",
       "      <td>573.0</td>\n",
       "      <td>645.0</td>\n",
       "      <td>524.0</td>\n",
       "      <td>542.0</td>\n",
       "      <td>332.0</td>\n",
       "      <td>367.0</td>\n",
       "    </tr>\n",
       "  </tbody>\n",
       "</table>\n",
       "<p>187 rows × 12 columns</p>\n",
       "</div>"
      ],
      "text/plain": [
       "             1         2         3         4         5         6         7  \\\n",
       "IATA                                                                         \n",
       "LCG     3023.0    3013.0    3600.0    3723.0    3950.0    4156.0    4336.0   \n",
       "AAL     3446.0    3466.0    4062.0    3832.0    4376.0    4484.0    4239.0   \n",
       "AAR     1132.0    1208.0    1399.0    1347.0    1611.0    1615.0    1317.0   \n",
       "MAD   142197.0  134757.0  158732.0  163220.0  168996.0  180491.0  191913.0   \n",
       "AJA     1883.0    1706.0    2213.0    4544.0    5542.0    6911.0    7902.0   \n",
       "...        ...       ...       ...       ...       ...       ...       ...   \n",
       "VGO     2404.0    2381.0    2827.0    2933.0    2972.0    3001.0    3356.0   \n",
       "VRL        9.0       8.0      12.0      24.0      23.0      27.0      16.0   \n",
       "VNO    11307.0   10459.0   11904.0   13938.0   16302.0   15703.0   14950.0   \n",
       "VBY      801.0     843.0    1009.0    1118.0    1303.0    1509.0    2331.0   \n",
       "VIT      330.0     291.0     364.0     599.0     571.0     530.0     573.0   \n",
       "\n",
       "             8         9        10        11        12  \n",
       "IATA                                                    \n",
       "LCG     3977.0    4038.0    4138.0    3547.0    3448.0  \n",
       "AAL     4259.0    4746.0    4568.0    3588.0    3068.0  \n",
       "AAR     1351.0    1669.0    1615.0    1288.0    1073.0  \n",
       "MAD   186526.0  179644.0  176769.0  153942.0  156972.0  \n",
       "AJA     8778.0    6518.0    4272.0    2143.0    1562.0  \n",
       "...        ...       ...       ...       ...       ...  \n",
       "VGO     3191.0    3095.0    2964.0    2395.0    2257.0  \n",
       "VRL        0.0       0.0       0.0       0.0       0.0  \n",
       "VNO    15655.0   15597.0   16183.0   12795.0   12092.0  \n",
       "VBY     1544.0    1373.0    1191.0     999.0     880.0  \n",
       "VIT      645.0     524.0     542.0     332.0     367.0  \n",
       "\n",
       "[187 rows x 12 columns]"
      ]
     },
     "execution_count": 8,
     "metadata": {},
     "output_type": "execute_result"
    }
   ],
   "source": [
    "df_2019_airport_passenger_stats_complete"
   ]
  },
  {
   "cell_type": "markdown",
   "id": "da34599e",
   "metadata": {},
   "source": [
    "# Visulize Data"
   ]
  },
  {
   "cell_type": "code",
   "execution_count": 9,
   "id": "641d0dad",
   "metadata": {
    "scrolled": true
   },
   "outputs": [
    {
     "data": {
      "text/plain": [
       "<AxesSubplot:>"
      ]
     },
     "execution_count": 9,
     "metadata": {},
     "output_type": "execute_result"
    },
    {
     "data": {
      "image/png": "[encoded data removed]",
      "text/plain": [
       "<Figure size 1080x216 with 1 Axes>"
      ]
     },
     "metadata": {},
     "output_type": "display_data"
    }
   ],
   "source": [
    "sns.set(rc = {'figure.figsize':(15,3)})\n",
    "df_2019_airport_passenger_stats_complete.iloc[6:15].T.plot.bar(rot=0)"
   ]
  },
  {
   "cell_type": "markdown",
   "id": "9e7075c7",
   "metadata": {},
   "source": [
    "# Save Data"
   ]
  },
  {
   "cell_type": "code",
   "execution_count": 10,
   "id": "12c3adaf",
   "metadata": {},
   "outputs": [],
   "source": [
    "df_2019_airport_passenger_stats_complete.to_csv(EU_AIRPORT_2019_COMPLETE_CLEANED_PASSANGER_STAT_FILE_LOC)"
   ]
  },
  {
   "cell_type": "code",
   "execution_count": null,
   "id": "4f039516",
   "metadata": {},
   "outputs": [],
   "source": []
  }
 ],
 "metadata": {
  "kernelspec": {
   "display_name": "Python 3",
   "language": "python",
   "name": "python3"
  },
  "language_info": {
   "codemirror_mode": {
    "name": "ipython",
    "version": 3
   },
   "file_extension": ".py",
   "mimetype": "text/x-python",
   "name": "python",
   "nbconvert_exporter": "python",
   "pygments_lexer": "ipython3",
   "version": "3.8.8"
  }
 },
 "nbformat": 4,
 "nbformat_minor": 5
}
