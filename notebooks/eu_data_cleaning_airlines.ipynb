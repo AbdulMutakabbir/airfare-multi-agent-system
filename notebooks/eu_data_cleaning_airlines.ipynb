{
 "cells": [
  {
   "cell_type": "code",
   "execution_count": 1,
   "id": "fbb7bcde",
   "metadata": {},
   "outputs": [],
   "source": [
    "import pandas as pd\n",
    "import matplotlib.pyplot as plt\n",
    "import json"
   ]
  },
  {
   "cell_type": "code",
   "execution_count": 2,
   "id": "66759514",
   "metadata": {},
   "outputs": [],
   "source": [
    "AIRLINES_FILE_CLEANED_CSV = \"../data/cleaned/cleaned_earth_airlines.csv\"\n",
    "AIRLINES_FILE_CLEANED_JSON = \"../data/cleaned/cleaned_earth_airlines.json\"\n",
    "\n",
    "EU_COUNTRIES_FILE_CLEANED_CSV = \"../data/cleaned/eu_cleaned_countries.csv\"\n",
    "\n",
    "EU_AIRLINES_FILE_CLEANED_CSV = \"../data/cleaned/eu_cleaned_airlines.csv\"\n",
    "EU_AIRLINES_FILE_CLEANED_JSON = \"../data/cleaned/eu_cleaned_airlines.json\""
   ]
  },
  {
   "cell_type": "markdown",
   "id": "cf17607c",
   "metadata": {},
   "source": [
    "# Read Airline Data"
   ]
  },
  {
   "cell_type": "code",
   "execution_count": 3,
   "id": "00e12a42",
   "metadata": {
    "scrolled": true
   },
   "outputs": [],
   "source": [
    "all_airlines_df = pd.read_csv(AIRLINES_FILE_CLEANED_CSV, \n",
    "                              index_col = 0, \n",
    "                              header=0)"
   ]
  },
  {
   "cell_type": "code",
   "execution_count": 4,
   "id": "392a4cc1",
   "metadata": {},
   "outputs": [],
   "source": [
    "eu_countries_df = pd.read_csv(EU_COUNTRIES_FILE_CLEANED_CSV, \n",
    "                              index_col = 0, \n",
    "                              header=0)"
   ]
  },
  {
   "cell_type": "code",
   "execution_count": 5,
   "id": "9b7294d2",
   "metadata": {},
   "outputs": [],
   "source": [
    "with open(AIRLINES_FILE_CLEANED_JSON) as f:\n",
    "    all_airlines = json.load(f)"
   ]
  },
  {
   "cell_type": "markdown",
   "id": "fb996901",
   "metadata": {},
   "source": [
    "# Airline Data Cleaning"
   ]
  },
  {
   "cell_type": "code",
   "execution_count": 6,
   "id": "317c818c",
   "metadata": {},
   "outputs": [],
   "source": [
    "eu_countries_list = eu_countries_df['country'].values\n",
    "\n",
    "eu_airlines_df = all_airlines_df[all_airlines_df['Country'].isin(eu_countries_list)]"
   ]
  },
  {
   "cell_type": "code",
   "execution_count": 7,
   "id": "7b2107cf",
   "metadata": {},
   "outputs": [
    {
     "data": {
      "text/html": [
       "<div>\n",
       "<style scoped>\n",
       "    .dataframe tbody tr th:only-of-type {\n",
       "        vertical-align: middle;\n",
       "    }\n",
       "\n",
       "    .dataframe tbody tr th {\n",
       "        vertical-align: top;\n",
       "    }\n",
       "\n",
       "    .dataframe thead th {\n",
       "        text-align: right;\n",
       "    }\n",
       "</style>\n",
       "<table border=\"1\" class=\"dataframe\">\n",
       "  <thead>\n",
       "    <tr style=\"text-align: right;\">\n",
       "      <th></th>\n",
       "      <th>Name</th>\n",
       "      <th>IATA</th>\n",
       "      <th>Country</th>\n",
       "    </tr>\n",
       "  </thead>\n",
       "  <tbody>\n",
       "    <tr>\n",
       "      <th>0</th>\n",
       "      <td>Aigle Azur</td>\n",
       "      <td>ZI</td>\n",
       "      <td>France</td>\n",
       "    </tr>\n",
       "    <tr>\n",
       "      <th>1</th>\n",
       "      <td>Adria Airways</td>\n",
       "      <td>JP</td>\n",
       "      <td>Slovenia</td>\n",
       "    </tr>\n",
       "    <tr>\n",
       "      <th>2</th>\n",
       "      <td>Air Europa</td>\n",
       "      <td>UX</td>\n",
       "      <td>Spain</td>\n",
       "    </tr>\n",
       "    <tr>\n",
       "      <th>3</th>\n",
       "      <td>Aegean Airlines</td>\n",
       "      <td>A3</td>\n",
       "      <td>Greece</td>\n",
       "    </tr>\n",
       "    <tr>\n",
       "      <th>4</th>\n",
       "      <td>Air Europe</td>\n",
       "      <td>PE</td>\n",
       "      <td>Italy</td>\n",
       "    </tr>\n",
       "  </tbody>\n",
       "</table>\n",
       "</div>"
      ],
      "text/plain": [
       "              Name IATA   Country\n",
       "0       Aigle Azur   ZI    France\n",
       "1    Adria Airways   JP  Slovenia\n",
       "2       Air Europa   UX     Spain\n",
       "3  Aegean Airlines   A3    Greece\n",
       "4       Air Europe   PE     Italy"
      ]
     },
     "execution_count": 7,
     "metadata": {},
     "output_type": "execute_result"
    }
   ],
   "source": [
    "eu_airlines_df.reset_index(drop=True, inplace=True)\n",
    "eu_airlines_df.head()"
   ]
  },
  {
   "cell_type": "markdown",
   "id": "54442c3b",
   "metadata": {},
   "source": [
    "# Create JSON Data"
   ]
  },
  {
   "cell_type": "code",
   "execution_count": 8,
   "id": "60bfe7cb",
   "metadata": {},
   "outputs": [],
   "source": [
    "eu_airlines_json = {}\n",
    "\n",
    "eu_airlines_count = len(eu_airlines_df)\n",
    "\n",
    "for airline_index in range(eu_airlines_count):\n",
    "    airline_data = eu_airlines_df.iloc[airline_index]\n",
    "    airline_code = airline_data[\"IATA\"]\n",
    "    eu_airlines_json[airline_code] = all_airlines[airline_code]"
   ]
  },
  {
   "cell_type": "markdown",
   "id": "87c8ff6b",
   "metadata": {},
   "source": [
    "# Airline Visulization"
   ]
  },
  {
   "cell_type": "code",
   "execution_count": 9,
   "id": "7f770d30",
   "metadata": {},
   "outputs": [
    {
     "name": "stdout",
     "output_type": "stream",
     "text": [
      "number of countries: 27\n"
     ]
    }
   ],
   "source": [
    "no_of_countries = len(eu_airlines_df[\"Country\"].value_counts())\n",
    "print(\"number of countries:\", no_of_countries)"
   ]
  },
  {
   "cell_type": "code",
   "execution_count": 10,
   "id": "29c21aca",
   "metadata": {},
   "outputs": [
    {
     "data": {
      "image/png": "[encoded data removed]",
      "text/plain": [
       "<Figure size 504x144 with 1 Axes>"
      ]
     },
     "metadata": {
      "needs_background": "light"
     },
     "output_type": "display_data"
    }
   ],
   "source": [
    "plt.close(\"all\")\n",
    "plt.figure()\n",
    "name_plt = eu_airlines_df[\"Country\"].value_counts().plot(kind='bar',figsize=(7,2))\n",
    "name_plt.set_xlabel(\"Country\")\n",
    "name_plt.set_ylabel(\"No. of Airlines\")\n",
    "plt.show()"
   ]
  },
  {
   "cell_type": "markdown",
   "id": "069d093a",
   "metadata": {},
   "source": [
    "# Save Airline Data"
   ]
  },
  {
   "cell_type": "code",
   "execution_count": 11,
   "id": "c135e920",
   "metadata": {},
   "outputs": [],
   "source": [
    "eu_airlines_df.to_csv(EU_AIRLINES_FILE_CLEANED_CSV)"
   ]
  },
  {
   "cell_type": "code",
   "execution_count": 12,
   "id": "f2ae4f4e",
   "metadata": {},
   "outputs": [],
   "source": [
    "with open(EU_AIRLINES_FILE_CLEANED_JSON, 'w') as fp:\n",
    "    json.dump(eu_airlines_json, fp)"
   ]
  },
  {
   "cell_type": "code",
   "execution_count": null,
   "id": "29945346",
   "metadata": {},
   "outputs": [],
   "source": []
  }
 ],
 "metadata": {
  "kernelspec": {
   "display_name": "Python 3",
   "language": "python",
   "name": "python3"
  },
  "language_info": {
   "codemirror_mode": {
    "name": "ipython",
    "version": 3
   },
   "file_extension": ".py",
   "mimetype": "text/x-python",
   "name": "python",
   "nbconvert_exporter": "python",
   "pygments_lexer": "ipython3",
   "version": "3.8.8"
  }
 },
 "nbformat": 4,
 "nbformat_minor": 5
}
